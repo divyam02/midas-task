{
  "nbformat": 4,
  "nbformat_minor": 0,
  "metadata": {
    "colab": {
      "name": "python-task.ipynb",
      "version": "0.3.2",
      "provenance": [],
      "collapsed_sections": []
    },
    "kernelspec": {
      "name": "python3",
      "display_name": "Python 3"
    }
  },
  "cells": [
    {
      "metadata": {
        "id": "SOTcjga3zQKl",
        "colab_type": "code",
        "colab": {}
      },
      "cell_type": "code",
      "source": [
        "from tweepy import OAuthHandler\n",
        "from tweepy import API\n",
        "from tweepy import Cursor\n",
        "from datetime import *\n",
        "from collections import Counter\n",
        "import sys\n",
        "import jsonlines"
      ],
      "execution_count": 0,
      "outputs": []
    },
    {
      "metadata": {
        "id": "H-n52WTKzlZg",
        "colab_type": "code",
        "colab": {}
      },
      "cell_type": "code",
      "source": [
        "\"\"\"\n",
        "Add API keys to access Twitter API\n",
        "\"\"\"\n",
        "consumer_key=\"\"\n",
        "consumer_secret=\"\"\n",
        "access_token=\"\"\n",
        "access_token_secret=\"\"\n",
        "\n",
        "auth = OAuthHandler(consumer_key, consumer_secret)\n",
        "auth.set_access_token(access_token, access_token_secret)\n",
        "auth_api = API(auth)\n",
        "\n",
        "target = '@midasIIITD'\n",
        "print(target)\n",
        "\n",
        "item = auth_api.get_user(target)\n",
        "tweets = item.statuses_count"
      ],
      "execution_count": 0,
      "outputs": []
    },
    {
      "metadata": {
        "id": "EY9xjyPpzrA8",
        "colab_type": "code",
        "colab": {}
      },
      "cell_type": "code",
      "source": [
        "\"\"\"\n",
        "Get tweets (not pages) from Cursor objects and push entire string onto a JSON string.\n",
        "Then write all JSON strings to a JSONLines file, as shown\n",
        "\"\"\"\n",
        "tweet_count = 0\n",
        "tweets = []\n",
        "end_date = datetime.utcnow() - timedelta(days=1000)\n",
        "for status in Cursor(auth_api.user_timeline, screen_name='@midasIIITD', tweet_mode=\"extended\", id=target).items():\n",
        "\ttweet_count+=1\n",
        "\ttweets.append(status._json)\n",
        "\t\"\"\"\n",
        "\tAdd code to get relevant details\n",
        "\t\"\"\"\n",
        "\tif status.created_at < end_date:\n",
        "\t\tbreak\n",
        "with jsonlines.open('temp.jsonl', mode='w') as writer:\n",
        "writer.write_all(tweets)"
      ],
      "execution_count": 0,
      "outputs": []
    },
    {
      "metadata": {
        "id": "BMzCGzIM0AHw",
        "colab_type": "code",
        "colab": {}
      },
      "cell_type": "code",
      "source": [
        "import pandas as pd\n",
        "import jsonlines\n",
        "import json\n",
        "\"\"\"\n",
        "Pending:\n",
        "Done:\n",
        "\t1. Add image count\n",
        "\t\t@Note: Retweet image are not to be included!\n",
        "\t\tLook in entities->media only.\n",
        "\"\"\"\n",
        "tweets = []"
      ],
      "execution_count": 0,
      "outputs": []
    },
    {
      "metadata": {
        "id": "f7ZOV9tK0neU",
        "colab_type": "code",
        "colab": {}
      },
      "cell_type": "code",
      "source": [
        "\"\"\"\n",
        "Read jsonl file and collate all tweets. \n",
        "Create .csv file from relevant headers.\n",
        "\"\"\"\n",
        "with jsonlines.open('temp.jsonl', mode='r') as reader:\n",
        "\tfor obj in reader.iter(type=dict, skip_invalid=True):\n",
        "\t\ttweets.append(obj)\n",
        "\n",
        "tweets_data = pd.DataFrame(tweets)\n",
        "\n",
        "actual = pd.DataFrame()\n",
        "actual['text'] = tweets_data['full_text']\n",
        "actual['date'] = tweets_data['created_at']\n",
        "actual['favorite_count'] = tweets_data['favorite_count']\n",
        "actual['retweets'] = tweets_data['retweet_count']\n",
        "#actual['images'] = len(tweets_data['extended_entities']['media'])\n",
        "actual['images'] = 0\n",
        "for i in range(len(tweets)):\n",
        "\ttry:\n",
        "\t\tactual['images'][i] = len(tweets_data['extended_entities'][i]['media'])\n",
        "\texcept Exception as e:\n",
        "\t\tactual['images'][i] = 0\n",
        "\n",
        "print(actual)\n",
        "\n",
        "actual.to_csv('midas_twitter_feed_stats.csv')"
      ],
      "execution_count": 0,
      "outputs": []
    }
  ]
}